{
 "cells": [
  {
   "cell_type": "markdown",
   "metadata": {},
   "source": [
    "![](https://i.imgur.com/62lgQpf.jpg)\n",
    "\n",
    "-----\n",
    "\n",
    "## About the dataset\n",
    "https://www.kaggle.com/nowke9/ipldata\n",
    "- `teams.csv`: list of IPL teams\n",
    "- `matches.csv`: IPL match data\n",
    "- `deliveries.csv`: Ball by ball data of IPL matches.\n",
    "\n",
    "## Questions we are gonna answer...\n",
    "\n",
    "- Which team has won/lost maximum number of matches while chasing?\n",
    "- Which toss decision is best for each ground?\n",
    "- Which player has won maximum number of MoM awards while chasing?\n",
    "\n",
    "- Which batsman has played maximum number of dot balls?\n",
    "- Which batsmen came to crease but never got a chance to face a ball?\n",
    "- Which bowler has hit for maximum number of 1s/2s/3s/4s/6s?\n",
    "- Which batsman got stumped out maximum number of times?\n",
    "- Which non-striker has been part of maximum number of runouts?\n",
    "\n",
    "\n",
    "Finally,\n",
    "\n",
    "**How to make a generalized IPL query engine?**"
   ]
  },
  {
   "cell_type": "code",
   "execution_count": null,
   "metadata": {},
   "outputs": [],
   "source": [
    "import pandas as pd"
   ]
  },
  {
   "cell_type": "code",
   "execution_count": null,
   "metadata": {},
   "outputs": [],
   "source": [
    "teams_df = pd.read_csv(\"data/teams.csv\")"
   ]
  },
  {
   "cell_type": "code",
   "execution_count": null,
   "metadata": {},
   "outputs": [],
   "source": [
    "matches_df = pd.read_csv(\"data/matches.csv\", index_col='id')"
   ]
  },
  {
   "cell_type": "code",
   "execution_count": null,
   "metadata": {},
   "outputs": [],
   "source": [
    "deliveries_df = pd.read_csv(\"data/deliveries.csv\")"
   ]
  },
  {
   "cell_type": "markdown",
   "metadata": {},
   "source": [
    "## Which team has won/lost maximum number of matches while chasing?"
   ]
  },
  {
   "cell_type": "code",
   "execution_count": null,
   "metadata": {},
   "outputs": [],
   "source": [
    "def set_first_innings(match):\n",
    "    if (match.team1 == match.toss_winner and match.toss_decision == \"bat\") \\\n",
    "    or (match.team1 != match.toss_winner and match.toss_decision == \"field\"):\n",
    "        return match.team1\n",
    "    else:\n",
    "        return match.team2\n",
    "    \n",
    "    \n",
    "def set_second_innings(match):\n",
    "    if (match.team1 == match.toss_winner and match.toss_decision == \"field\") \\\n",
    "    or (match.team1 != match.toss_winner and match.toss_decision == \"bat\"):\n",
    "        return match.team1\n",
    "    else:\n",
    "        return match.team2"
   ]
  },
  {
   "cell_type": "code",
   "execution_count": null,
   "metadata": {},
   "outputs": [],
   "source": [
    "matches_df['inning1'] = matches_df.apply(set_first_innings, axis=1)\n",
    "matches_df['inning2'] = matches_df.apply(set_second_innings, axis=1)"
   ]
  },
  {
   "cell_type": "code",
   "execution_count": null,
   "metadata": {
    "scrolled": true
   },
   "outputs": [],
   "source": [
    "# maximum number of matches won while chasing\n",
    "matches_df.query(\"winner == inning2\")['inning2'].value_counts()"
   ]
  },
  {
   "cell_type": "code",
   "execution_count": null,
   "metadata": {
    "scrolled": true
   },
   "outputs": [],
   "source": [
    "# maximum number of matches lost while chasing\n",
    "matches_df.query(\"winner != inning2\")['inning2'].value_counts()"
   ]
  },
  {
   "cell_type": "markdown",
   "metadata": {},
   "source": [
    "## Which toss decision is best for each ground?"
   ]
  },
  {
   "cell_type": "code",
   "execution_count": null,
   "metadata": {},
   "outputs": [],
   "source": [
    "%matplotlib inline"
   ]
  },
  {
   "cell_type": "code",
   "execution_count": null,
   "metadata": {
    "scrolled": false
   },
   "outputs": [],
   "source": [
    "matches_df.query(\"toss_winner == winner\").groupby('venue')['toss_decision'].value_counts().unstack(level=1).plot.bar(figsize=(15,5))"
   ]
  },
  {
   "cell_type": "markdown",
   "metadata": {},
   "source": [
    "## Which player has won maximum number of MoM awards while chasing?"
   ]
  },
  {
   "cell_type": "code",
   "execution_count": null,
   "metadata": {},
   "outputs": [],
   "source": [
    "matches_df.query(\"winner == inning2\")['player_of_match'].value_counts().sort_values(ascending=False).head()"
   ]
  },
  {
   "cell_type": "markdown",
   "metadata": {},
   "source": [
    "## Which batsman has played maximum number of dot balls?"
   ]
  },
  {
   "cell_type": "code",
   "execution_count": null,
   "metadata": {},
   "outputs": [],
   "source": [
    "deliveries_df.query(\"batsman_runs == 0 and extra_runs == 0\")['batsman'].value_counts().head()"
   ]
  },
  {
   "cell_type": "markdown",
   "metadata": {},
   "source": [
    "## Which batsmen came to crease but never got a chance to face a ball?"
   ]
  },
  {
   "cell_type": "code",
   "execution_count": null,
   "metadata": {},
   "outputs": [],
   "source": [
    "a = deliveries_df['non_striker'].value_counts().index"
   ]
  },
  {
   "cell_type": "code",
   "execution_count": null,
   "metadata": {},
   "outputs": [],
   "source": [
    "b = deliveries_df['batsman'].value_counts().index"
   ]
  },
  {
   "cell_type": "code",
   "execution_count": null,
   "metadata": {},
   "outputs": [],
   "source": [
    "a.difference(b)"
   ]
  },
  {
   "cell_type": "markdown",
   "metadata": {},
   "source": [
    "## Which batsman has hit for maximum number of 1s/2s/3s/4s/6s?"
   ]
  },
  {
   "cell_type": "code",
   "execution_count": null,
   "metadata": {
    "scrolled": false
   },
   "outputs": [],
   "source": [
    "deliveries_df.query(\"batsman_runs == 6\")['batsman'].value_counts().head()"
   ]
  },
  {
   "cell_type": "markdown",
   "metadata": {},
   "source": [
    "## Which batsman got stumped out maximum number of times?"
   ]
  },
  {
   "cell_type": "code",
   "execution_count": null,
   "metadata": {},
   "outputs": [],
   "source": [
    "deliveries_df.query(\"dismissal_kind == 'stumped'\")['batsman'].value_counts().head()"
   ]
  },
  {
   "cell_type": "markdown",
   "metadata": {},
   "source": [
    "## Which non-striker has been part of maximum number of runouts?"
   ]
  },
  {
   "cell_type": "code",
   "execution_count": null,
   "metadata": {
    "scrolled": true
   },
   "outputs": [],
   "source": [
    "deliveries_df.query(\"dismissal_kind == 'run out'\")['non_striker'].value_counts().head()"
   ]
  },
  {
   "cell_type": "markdown",
   "metadata": {},
   "source": [
    "\n",
    "---\n",
    "\n",
    "# A generalized query engine...\n",
    "\n",
    "[IPLQE](https://iplqe.herokuapp.com)\n",
    "\n",
    "**Actors are:**\n",
    "- Batsmen (batsman)\n",
    "- Bowlers (bowler)\n",
    "- Fielders (fielders)\n",
    "- Non strikers (non_striker)\n",
    "- Dismissed batsmen (player_out)\n",
    "- Batting teams (bat_team)\n",
    "- Bowling teams (bowl_team)\n",
    "\n",
    "**To calculate parameters:**\n",
    "- runs (total_runs)\n",
    "- runs by bat (batsman_runs)\n",
    "- extra runs (extra_runs)\n",
    "- wickets (player_out)\n",
    "- deliveries (ball)\n",
    "\n",
    "**Filters available:**\n",
    "- season\n",
    "- innings\n",
    "- bat_team\n",
    "- bowl_team\n",
    "- over\n",
    "- ball\n",
    "- batsman_runs\n",
    "- extra_runs\n",
    "- total_runs\n",
    "- extra_type\n",
    "- wicket_kind\n",
    "\n",
    "\n",
    "![](https://i.imgur.com/mernK4C.png)"
   ]
  },
  {
   "cell_type": "code",
   "execution_count": null,
   "metadata": {},
   "outputs": [],
   "source": [
    "filters = \"inning == 2 and over == 20\""
   ]
  },
  {
   "cell_type": "code",
   "execution_count": null,
   "metadata": {},
   "outputs": [],
   "source": [
    "actor = \"batsman\""
   ]
  },
  {
   "cell_type": "code",
   "execution_count": null,
   "metadata": {},
   "outputs": [],
   "source": [
    "to_calculate = \"batsman_runs\""
   ]
  },
  {
   "cell_type": "code",
   "execution_count": null,
   "metadata": {},
   "outputs": [],
   "source": [
    "deliveries_df.query(filters).groupby(actor)[to_calculate].sum().sort_values(ascending=False).head(10)"
   ]
  }
 ],
 "metadata": {
  "kernelspec": {
   "display_name": "Python 3",
   "language": "python",
   "name": "python3"
  },
  "language_info": {
   "codemirror_mode": {
    "name": "ipython",
    "version": 3
   },
   "file_extension": ".py",
   "mimetype": "text/x-python",
   "name": "python",
   "nbconvert_exporter": "python",
   "pygments_lexer": "ipython3",
   "version": "3.6.5"
  }
 },
 "nbformat": 4,
 "nbformat_minor": 2
}
