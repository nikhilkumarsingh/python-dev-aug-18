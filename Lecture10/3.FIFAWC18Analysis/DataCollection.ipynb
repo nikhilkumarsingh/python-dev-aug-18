{
 "cells": [
  {
   "cell_type": "markdown",
   "metadata": {},
   "source": [
    "![](https://i.imgur.com/A3Cxp7P.png)\n",
    "\n",
    "## FIFA official API\n",
    "\n",
    "https://api.fifa.com\n",
    "\n",
    "### API Doc\n",
    "\n",
    "https://api.qa.fifa.com/Help\n",
    "\n",
    ">Our goal is to fetch world cup 2018 data through this API."
   ]
  },
  {
   "cell_type": "code",
   "execution_count": 1,
   "metadata": {},
   "outputs": [],
   "source": [
    "import csv\n",
    "import json\n",
    "import requests\n",
    "from tqdm import tqdm"
   ]
  },
  {
   "cell_type": "code",
   "execution_count": 2,
   "metadata": {},
   "outputs": [],
   "source": [
    "def write_to_csv(data, filename, fieldnames):\n",
    "    with open(filename, \"w\") as f:\n",
    "        csv_dict_writer = csv.DictWriter(f, fieldnames=fieldnames)\n",
    "        csv_dict_writer.writeheader()\n",
    "        csv_dict_writer.writerows(data)"
   ]
  },
  {
   "cell_type": "markdown",
   "metadata": {},
   "source": [
    "## Get list of available competitions\n",
    "\n",
    "https://api.fifa.com/api/v1/competitions/search?name=world%20cup"
   ]
  },
  {
   "cell_type": "code",
   "execution_count": 3,
   "metadata": {},
   "outputs": [],
   "source": [
    "def get_competitions(query):\n",
    "    url = \"https://api.fifa.com/api/v1/competitions/search\"\n",
    "    params = {\n",
    "        \"name\": query\n",
    "    }\n",
    "    r = requests.get(url, params=params)\n",
    "    data = r.json()['Results']\n",
    "    return data"
   ]
  },
  {
   "cell_type": "code",
   "execution_count": 4,
   "metadata": {},
   "outputs": [],
   "source": [
    "competitions = get_competitions(\"world cup\")"
   ]
  },
  {
   "cell_type": "code",
   "execution_count": 5,
   "metadata": {},
   "outputs": [
    {
     "data": {
      "text/plain": [
       "{'IdCompetition': '17',\n",
       " 'Name': [{'Locale': 'en-GB', 'Description': 'FIFA World Cup™'}],\n",
       " 'IdConfederation': [],\n",
       " 'IdMemberAssociation': [],\n",
       " 'IdOwner': 'FIFA',\n",
       " 'Gender': 1,\n",
       " 'FootballType': 0,\n",
       " 'TeamType': 1,\n",
       " 'CompetitionType': 3,\n",
       " 'Properties': {'IdCBS': '17', 'IdIFES': 'FWC'},\n",
       " 'IsUpdateable': None}"
      ]
     },
     "execution_count": 5,
     "metadata": {},
     "output_type": "execute_result"
    }
   ],
   "source": [
    "competitions[0]"
   ]
  },
  {
   "cell_type": "code",
   "execution_count": 6,
   "metadata": {},
   "outputs": [],
   "source": [
    "world_cup_id = competitions[0]['IdCompetition']"
   ]
  },
  {
   "cell_type": "markdown",
   "metadata": {},
   "source": [
    "## Get list of all world cup seasons\n",
    "\n",
    "https://api.fifa.com/api/v1/seasons?idCompetition=17"
   ]
  },
  {
   "cell_type": "code",
   "execution_count": 7,
   "metadata": {},
   "outputs": [],
   "source": [
    "def get_seasons(competition_id):\n",
    "    url = \"https://api.fifa.com/api/v1/seasons\"\n",
    "    params = {\n",
    "        \"idCompetition\": competition_id\n",
    "    }\n",
    "    r = requests.get(url, params=params)\n",
    "    data = r.json()['Results']\n",
    "    return data"
   ]
  },
  {
   "cell_type": "code",
   "execution_count": 8,
   "metadata": {},
   "outputs": [],
   "source": [
    "seasons = get_seasons(world_cup_id)"
   ]
  },
  {
   "cell_type": "code",
   "execution_count": 9,
   "metadata": {},
   "outputs": [
    {
     "data": {
      "text/plain": [
       "22"
      ]
     },
     "execution_count": 9,
     "metadata": {},
     "output_type": "execute_result"
    }
   ],
   "source": [
    "len(seasons)"
   ]
  },
  {
   "cell_type": "code",
   "execution_count": 10,
   "metadata": {},
   "outputs": [],
   "source": [
    "season_id = seasons[1]['IdSeason']"
   ]
  },
  {
   "cell_type": "markdown",
   "metadata": {},
   "source": [
    "## Get stages\n",
    "\n",
    "https://api.fifa.com/api/v1/stages?idCompetition=17&idSeason=254645"
   ]
  },
  {
   "cell_type": "code",
   "execution_count": 11,
   "metadata": {},
   "outputs": [],
   "source": [
    "def get_stages(season_id, competition_id):\n",
    "    url = \"https://api.fifa.com/api/v1/stages\"\n",
    "    params = {\n",
    "        \"idCompetition\": competition_id,\n",
    "        \"idSeason\": season_id\n",
    "    }\n",
    "    r = requests.get(url, params=params)\n",
    "    return r.json()['Results']"
   ]
  },
  {
   "cell_type": "code",
   "execution_count": 12,
   "metadata": {},
   "outputs": [],
   "source": [
    "stages = get_stages(season_id, world_cup_id)"
   ]
  },
  {
   "cell_type": "code",
   "execution_count": 13,
   "metadata": {},
   "outputs": [],
   "source": [
    "stages_map = {stage['IdStage']: stage['Name'][0]['Description'] for stage in stages}"
   ]
  },
  {
   "cell_type": "markdown",
   "metadata": {},
   "source": [
    "## Get list of all world cup matches in a season\n",
    "\n",
    "https://api.fifa.com/api/v1/calendar/matches?idseason=254645&idcompetition=17"
   ]
  },
  {
   "cell_type": "code",
   "execution_count": 14,
   "metadata": {},
   "outputs": [],
   "source": [
    "def get_matches(competition_id, season_id):\n",
    "    url = \"https://api.fifa.com/api/v1/calendar/matches\"\n",
    "    params = {\n",
    "        \"idcompetition\": competition_id,\n",
    "        \"idseason\": season_id,\n",
    "        \"count\": 100\n",
    "    }\n",
    "    r = requests.get(url, params=params)\n",
    "    data = r.json()['Results']\n",
    "    return data"
   ]
  },
  {
   "cell_type": "code",
   "execution_count": 15,
   "metadata": {},
   "outputs": [],
   "source": [
    "world_cup_matches = get_matches(world_cup_id, season_id)"
   ]
  },
  {
   "cell_type": "code",
   "execution_count": 16,
   "metadata": {},
   "outputs": [
    {
     "data": {
      "text/plain": [
       "64"
      ]
     },
     "execution_count": 16,
     "metadata": {},
     "output_type": "execute_result"
    }
   ],
   "source": [
    "len(world_cup_matches)"
   ]
  },
  {
   "cell_type": "markdown",
   "metadata": {},
   "source": [
    "## Generate CSV file for matches data"
   ]
  },
  {
   "cell_type": "code",
   "execution_count": 17,
   "metadata": {},
   "outputs": [],
   "source": [
    "direct_fields = ['IdMatch', 'Attendance', 'MatchDay', 'Date', 'HomeTeamScore', 'AwayTeamScore', 'HomeTeamPenaltyScore',\n",
    "                 'AwayTeamPenaltyScore', 'IsHomeMatch', 'MatchStatus', 'ResultType']"
   ]
  },
  {
   "cell_type": "code",
   "execution_count": 18,
   "metadata": {},
   "outputs": [],
   "source": [
    "matches_data = []"
   ]
  },
  {
   "cell_type": "code",
   "execution_count": 19,
   "metadata": {},
   "outputs": [],
   "source": [
    "for match in world_cup_matches:\n",
    "    match_data = {}\n",
    "    \n",
    "    # set direct fields\n",
    "    for field in direct_fields:\n",
    "        match_data[field] = match[field]\n",
    "    \n",
    "    # set indirect fields\n",
    "    match_data['Stage'] = stages_map[match['IdStage']]\n",
    "    match_data['HomeTeamName'] = match['Home']['TeamName'][0]['Description']\n",
    "    match_data['AwayTeamName'] = match['Away']['TeamName'][0]['Description']\n",
    "    match_data['HomeTeamTactics'] = match['Home']['Tactics']\n",
    "    match_data['AwayTeamTactics'] = match['Away']['Tactics']\n",
    "    match_data['StadiumName'] = match['Stadium']['Name'][0]['Description']\n",
    "    \n",
    "    # set weather details\n",
    "    match_data['Temperature'] = match['Weather']['Temperature']\n",
    "    match_data['Humidity'] = match['Weather']['Humidity']\n",
    "    match_data['WindSpeed'] = match['Weather']['WindSpeed']\n",
    "    match_data['WeatherType'] = match['Weather']['TypeLocalized'][0]['Description']\n",
    "        \n",
    "    # set ball possession\n",
    "    match_data['BallPossessionHome'] = match['BallPossession']['OverallHome']\n",
    "    match_data['BallPossessionAway'] = match['BallPossession']['OverallAway']\n",
    "    \n",
    "    # set winner team name\n",
    "    if match['Home']['IdTeam'] == match['Winner']:\n",
    "        match_data['Winner'] = match_data['HomeTeamName']\n",
    "    elif match['Away']['IdTeam'] == match['Winner']:\n",
    "        match_data['Winner'] = match_data['AwayTeamName']\n",
    "    else:\n",
    "        match_data['Winner'] = None\n",
    "    \n",
    "    matches_data.append(match_data)"
   ]
  },
  {
   "cell_type": "code",
   "execution_count": 20,
   "metadata": {},
   "outputs": [],
   "source": [
    "matches_data_headers = ['IdMatch', 'HomeTeamName', 'AwayTeamName', 'Attendance', 'MatchDay', 'Date', 'Stage', \n",
    "                        'HomeTeamTactics', 'AwayTeamTactics', 'HomeTeamScore', 'AwayTeamScore', \n",
    "                        'HomeTeamPenaltyScore', 'AwayTeamPenaltyScore', 'IsHomeMatch', 'MatchStatus', \n",
    "                        'ResultType', 'StadiumName', 'Temperature', 'Humidity', 'WindSpeed', 'WeatherType', \n",
    "                        'BallPossessionHome', 'BallPossessionAway', 'Winner']\n",
    "write_to_csv(matches_data, \"matches.csv\", matches_data_headers)"
   ]
  },
  {
   "cell_type": "markdown",
   "metadata": {},
   "source": [
    "## Get match details\n",
    "\n",
    "https://api.fifa.com/api/v1/live/football/17/254645/275093/300331537"
   ]
  },
  {
   "cell_type": "code",
   "execution_count": 21,
   "metadata": {},
   "outputs": [],
   "source": [
    "def get_match_detail(match_id, stage_id, season_id, competition_id):\n",
    "    url = \"https://api.fifa.com/api/v1/live/football/{}/{}/{}/{}\".format(competition_id, season_id, stage_id, match_id)\n",
    "    r = requests.get(url)\n",
    "    data = r.json()\n",
    "    return data"
   ]
  },
  {
   "cell_type": "code",
   "execution_count": 22,
   "metadata": {},
   "outputs": [],
   "source": [
    "world_cup_matches_detailed = []"
   ]
  },
  {
   "cell_type": "code",
   "execution_count": 23,
   "metadata": {
    "scrolled": true
   },
   "outputs": [
    {
     "name": "stderr",
     "output_type": "stream",
     "text": [
      "100%|██████████| 64/64 [01:17<00:00,  1.21s/it]\n"
     ]
    }
   ],
   "source": [
    "for match in tqdm(world_cup_matches):\n",
    "    data = get_match_detail(match['IdMatch'], match['IdStage'], match['IdSeason'], match['IdCompetition'])\n",
    "    world_cup_matches_detailed.append(data)"
   ]
  },
  {
   "cell_type": "code",
   "execution_count": 24,
   "metadata": {},
   "outputs": [
    {
     "data": {
      "text/plain": [
       "[{'Type': 1,\n",
       "  'IdPlayer': '201200',\n",
       "  'Minute': \"4'\",\n",
       "  'IdAssistPlayer': '269859',\n",
       "  'Period': 3,\n",
       "  'IdGoal': None,\n",
       "  'IdTeam': '43963'},\n",
       " {'Type': 2,\n",
       "  'IdPlayer': '201200',\n",
       "  'Minute': \"44'\",\n",
       "  'IdAssistPlayer': '269859',\n",
       "  'Period': 3,\n",
       "  'IdGoal': None,\n",
       "  'IdTeam': '43963'},\n",
       " {'Type': 2,\n",
       "  'IdPlayer': '201200',\n",
       "  'Minute': \"88'\",\n",
       "  'IdAssistPlayer': '269859',\n",
       "  'Period': 5,\n",
       "  'IdGoal': None,\n",
       "  'IdTeam': '43963'}]"
      ]
     },
     "execution_count": 24,
     "metadata": {},
     "output_type": "execute_result"
    }
   ],
   "source": [
    "# Rememer this game?\n",
    "world_cup_matches_detailed[3]['HomeTeam']['Goals']"
   ]
  },
  {
   "cell_type": "markdown",
   "metadata": {},
   "source": [
    "## Generate CSV file for goals data"
   ]
  },
  {
   "cell_type": "code",
   "execution_count": 25,
   "metadata": {},
   "outputs": [],
   "source": [
    "goals_data = []"
   ]
  },
  {
   "cell_type": "code",
   "execution_count": 26,
   "metadata": {},
   "outputs": [],
   "source": [
    "team_types = ['HomeTeam', 'AwayTeam']\n",
    "\n",
    "for match in world_cup_matches_detailed:\n",
    "    match_id = match['IdMatch']\n",
    "    player_map = {player['IdPlayer']: player for player in match['HomeTeam']['Players']+match['AwayTeam']['Players']}\n",
    "    for idx, team in enumerate(team_types):\n",
    "        team_name = match[team]['TeamName'][0]['Description']\n",
    "        other_team_name = match[team_types[(idx+1)%2]]['TeamName'][0]['Description']\n",
    "        for goal in match[team]['Goals']:\n",
    "            goal_data = {}\n",
    "            goal_data['IdMatch'] = match_id\n",
    "            goal_data['Type'] = goal['Type']\n",
    "            goal_data['Minute'] = goal['Minute']\n",
    "            goal_data['TeamName'] = team_name\n",
    "            goal_data['OppositionTeamName'] = other_team_name\n",
    "            goal_data['PlayerName'] = player_map[goal['IdPlayer']]['PlayerName'][0]['Description']\n",
    "            goal_data['Position'] = player_map[goal['IdPlayer']]['Position']\n",
    "            goal_data['PlayerShirtNumber'] = player_map[goal['IdPlayer']]['ShirtNumber']\n",
    "            goal_data['IsCaptain'] = player_map[goal['IdPlayer']]['Captain']\n",
    "            if goal['IdAssistPlayer']:\n",
    "                goal_data['GoalKeeperName'] = player_map[goal['IdAssistPlayer']]['PlayerName'][0]['Description']\n",
    "            else:\n",
    "                goal_data['GoalKeeperName'] = None\n",
    "            goals_data.append(goal_data)"
   ]
  },
  {
   "cell_type": "code",
   "execution_count": 27,
   "metadata": {},
   "outputs": [
    {
     "data": {
      "text/plain": [
       "169"
      ]
     },
     "execution_count": 27,
     "metadata": {},
     "output_type": "execute_result"
    }
   ],
   "source": [
    "# number of proper goals\n",
    "len([goal['Minute'] for goal in goals_data if \"120\" not in goal['Minute']])"
   ]
  },
  {
   "cell_type": "code",
   "execution_count": 28,
   "metadata": {},
   "outputs": [],
   "source": [
    "goals_data_headers = ['PlayerName', 'Minute', 'IdMatch', 'Type', 'TeamName', 'OppositionTeamName',  'Position', 'IsCaptain', 'GoalKeeperName', 'PlayerShirtNumber']\n",
    "write_to_csv(goals_data, \"goals.csv\", goals_data_headers)"
   ]
  },
  {
   "cell_type": "markdown",
   "metadata": {},
   "source": [
    "## Get squads\n",
    "\n",
    "https://api.fifa.com/api/v1/teams/squads/all/17/254645?count=1000"
   ]
  },
  {
   "cell_type": "code",
   "execution_count": 29,
   "metadata": {},
   "outputs": [],
   "source": [
    "def get_squads(competition_id, season_id):\n",
    "    url = \"https://api.fifa.com/api/v1/teams/squads/all/{}/{}\".format(competition_id, season_id)\n",
    "    params = {\n",
    "        \"count\": 1000\n",
    "    }\n",
    "    r =requests.get(url)\n",
    "    return r.json()['Results']"
   ]
  },
  {
   "cell_type": "code",
   "execution_count": 30,
   "metadata": {},
   "outputs": [],
   "source": [
    "squads = get_squads(world_cup_id, season_id)"
   ]
  },
  {
   "cell_type": "markdown",
   "metadata": {},
   "source": [
    "## Generate CSV for teams"
   ]
  },
  {
   "cell_type": "code",
   "execution_count": 31,
   "metadata": {},
   "outputs": [],
   "source": [
    "def get_countries():\n",
    "    url = \"https://api.fifa.com/api/v1/countries\"\n",
    "    params = {\n",
    "        \"count\": 1000\n",
    "    }\n",
    "    r = requests.get(url, params=params)\n",
    "    return r.json()['Results']"
   ]
  },
  {
   "cell_type": "code",
   "execution_count": 32,
   "metadata": {},
   "outputs": [],
   "source": [
    "countries = get_countries()\n",
    "country_map = {country['IdCountry']: country['Name'] for country in countries}"
   ]
  },
  {
   "cell_type": "code",
   "execution_count": 33,
   "metadata": {},
   "outputs": [],
   "source": [
    "teams_data = []"
   ]
  },
  {
   "cell_type": "code",
   "execution_count": 34,
   "metadata": {},
   "outputs": [],
   "source": [
    "for squad in squads:\n",
    "    team_data = {}\n",
    "    team_data['IdTeam'] = squad['IdTeam']\n",
    "    team_data['TeamName'] = squad['TeamName'][0]['Description']\n",
    "    team_data['CoachName'] = squad['Officials'][0]['Name'][0]['Description']\n",
    "    team_data['CoachCountry'] = country_map[squad['Officials'][0]['IdCountry']]\n",
    "    teams_data.append(team_data)"
   ]
  },
  {
   "cell_type": "code",
   "execution_count": 35,
   "metadata": {},
   "outputs": [],
   "source": [
    "teams_data_headers = ['IdTeam', 'TeamName', 'CoachName', 'CoachCountry']\n",
    "write_to_csv(teams_data, \"teams.csv\", teams_data_headers)"
   ]
  },
  {
   "cell_type": "markdown",
   "metadata": {},
   "source": [
    "## Get players data\n",
    "\n",
    "https://api.fifa.com/api/v1/players/201200"
   ]
  },
  {
   "cell_type": "code",
   "execution_count": 36,
   "metadata": {},
   "outputs": [],
   "source": [
    "def get_player_data(player_id):\n",
    "    url = \"https://api.fifa.com/api/v1/players/{}\".format(player_id)\n",
    "    r = requests.get(url)\n",
    "    data = r.json()\n",
    "    player_data = {}\n",
    "    player_data['Name'] = data['Name'][0]['Description']\n",
    "    for field in ['IdPlayer', 'BirthDate', 'Weight', 'Height', 'InternationalCaps', 'Goals']:\n",
    "        player_data[field] = data[field]\n",
    "    return player_data"
   ]
  },
  {
   "cell_type": "markdown",
   "metadata": {},
   "source": [
    "## Generate CSV file for players data"
   ]
  },
  {
   "cell_type": "code",
   "execution_count": 37,
   "metadata": {},
   "outputs": [],
   "source": [
    "players_data = []"
   ]
  },
  {
   "cell_type": "code",
   "execution_count": 38,
   "metadata": {
    "scrolled": false
   },
   "outputs": [
    {
     "name": "stderr",
     "output_type": "stream",
     "text": [
      "Peru: 100%|██████████| 23/23 [00:28<00:00,  1.24s/it]\n",
      "Morocco: 100%|██████████| 23/23 [00:27<00:00,  1.21s/it]\n",
      "Egypt: 100%|██████████| 23/23 [00:25<00:00,  1.12s/it]\n",
      "IR Iran: 100%|██████████| 23/23 [00:29<00:00,  1.30s/it]\n",
      "Mexico: 100%|██████████| 23/23 [00:31<00:00,  1.36s/it]\n",
      "Saudi Arabia: 100%|██████████| 23/23 [00:40<00:00,  1.76s/it]\n",
      "Sweden: 100%|██████████| 23/23 [00:38<00:00,  1.68s/it]\n",
      "France: 100%|██████████| 23/23 [00:42<00:00,  1.86s/it]\n",
      "Senegal: 100%|██████████| 23/23 [00:44<00:00,  1.93s/it]\n",
      "Croatia: 100%|██████████| 23/23 [00:29<00:00,  1.30s/it]\n",
      "Poland: 100%|██████████| 23/23 [00:26<00:00,  1.16s/it]\n",
      "Brazil: 100%|██████████| 23/23 [00:23<00:00,  1.02s/it]\n",
      "Japan: 100%|██████████| 23/23 [00:22<00:00,  1.02it/s]\n",
      "Colombia: 100%|██████████| 23/23 [00:27<00:00,  1.20s/it]\n",
      "Spain: 100%|██████████| 23/23 [00:24<00:00,  1.08s/it]\n",
      "Switzerland: 100%|██████████| 23/23 [00:26<00:00,  1.14s/it]\n",
      "Denmark: 100%|██████████| 23/23 [00:27<00:00,  1.20s/it]\n",
      "Panama: 100%|██████████| 23/23 [00:27<00:00,  1.21s/it]\n",
      "Tunisia: 100%|██████████| 23/23 [00:27<00:00,  1.19s/it]\n",
      "Uruguay: 100%|██████████| 23/23 [00:27<00:00,  1.19s/it]\n",
      "Portugal: 100%|██████████| 23/23 [00:27<00:00,  1.18s/it]\n",
      "Australia: 100%|██████████| 23/23 [00:27<00:00,  1.18s/it]\n",
      "Germany: 100%|██████████| 23/23 [00:25<00:00,  1.12s/it]\n",
      "Costa Rica: 100%|██████████| 23/23 [00:30<00:00,  1.34s/it]\n",
      "Serbia: 100%|██████████| 23/23 [00:30<00:00,  1.34s/it]\n",
      "Iceland: 100%|██████████| 23/23 [00:36<00:00,  1.57s/it]\n",
      "England: 100%|██████████| 23/23 [00:27<00:00,  1.21s/it]\n",
      "Nigeria: 100%|██████████| 23/23 [00:26<00:00,  1.15s/it]\n",
      "Argentina: 100%|██████████| 23/23 [00:27<00:00,  1.20s/it]\n",
      "Korea Republic: 100%|██████████| 23/23 [00:28<00:00,  1.22s/it]\n",
      "Russia: 100%|██████████| 23/23 [00:26<00:00,  1.16s/it]\n",
      "Belgium: 100%|██████████| 23/23 [00:27<00:00,  1.17s/it]\n"
     ]
    }
   ],
   "source": [
    "for squad in squads:\n",
    "    team = squad['TeamName'][0]['Description']\n",
    "    for player in tqdm(squad['Players'], desc=team):\n",
    "        player_data = get_player_data(player['IdPlayer'])\n",
    "        player_data['TeamName'] = team\n",
    "        player_data['Position'] = player['PositionLocalized'][0]['Description']\n",
    "        players_data.append(player_data)"
   ]
  },
  {
   "cell_type": "code",
   "execution_count": 39,
   "metadata": {},
   "outputs": [],
   "source": [
    "players_data_headers = ['IdPlayer', 'Name', 'TeamName', 'Position', 'BirthDate', 'Weight', 'Height', 'InternationalCaps', 'Goals']\n",
    "write_to_csv(players_data, \"players.csv\", players_data_headers)"
   ]
  }
 ],
 "metadata": {
  "kernelspec": {
   "display_name": "Python 3",
   "language": "python",
   "name": "python3"
  },
  "language_info": {
   "codemirror_mode": {
    "name": "ipython",
    "version": 3
   },
   "file_extension": ".py",
   "mimetype": "text/x-python",
   "name": "python",
   "nbconvert_exporter": "python",
   "pygments_lexer": "ipython3",
   "version": "3.6.5"
  }
 },
 "nbformat": 4,
 "nbformat_minor": 2
}
